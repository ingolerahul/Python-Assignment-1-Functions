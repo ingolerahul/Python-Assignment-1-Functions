{
 "cells": [
  {
   "cell_type": "markdown",
   "id": "480a935d-f520-4e49-9d38-7b6123443152",
   "metadata": {},
   "source": [
    "Q1. Which keyword is used to create a function? Create a function to return a list of odd numbers in the\n",
    "range of 1 to 25."
   ]
  },
  {
   "cell_type": "code",
   "execution_count": 30,
   "id": "d411d249-ae77-4f22-8035-b3f2cbdd7f32",
   "metadata": {},
   "outputs": [
    {
     "name": "stdout",
     "output_type": "stream",
     "text": [
      "[1, 3, 5, 7, 9, 11, 13, 15, 17, 19, 21, 23, 25]\n"
     ]
    }
   ],
   "source": [
    "# Ans : 'def' is used to create the function,\n",
    "def odd_numbers_range():\n",
    "    x = range(1, 26)\n",
    "    odd_numbers = [i for i in x if i % 2 != 0]\n",
    "    return odd_numbers\n",
    "result = odd_numbers_range()\n",
    "print(result)\n",
    "    "
   ]
  },
  {
   "cell_type": "raw",
   "id": "6e13c1b4-b919-4fbe-bd8b-23ef94a68115",
   "metadata": {},
   "source": [
    "Q2. Why *args and **kwargs is used in some functions? Create a function each for *args and **kwargs\n",
    "to demonstrate their use."
   ]
  },
  {
   "cell_type": "code",
   "execution_count": 37,
   "id": "f811ebb0-005e-4cce-8895-28826535434f",
   "metadata": {},
   "outputs": [
    {
     "name": "stdout",
     "output_type": "stream",
     "text": [
      "45\n",
      "abcde\n"
     ]
    }
   ],
   "source": [
    "# ANS : *args is used to pass a variable number of non-keyword arguments to a function. It allows you to pass any number of arguments to the function, and these arguments will be received as a tuple.\n",
    "# **kwargs is used to pass a variable number of keyword arguments to a function. It allows you to pass any number of keyword arguments to the function, and these arguments will be received as a dictionary.\n",
    "def my_sum(*args):\n",
    "    result = 0\n",
    "    for x in args:\n",
    "        result += x\n",
    "    return result\n",
    "\n",
    "list1 = [1, 2, 3]\n",
    "list2 = [4, 5]\n",
    "list3 = [6, 7, 8, 9]\n",
    "\n",
    "print(my_sum(*list1, *list2, *list3))\n",
    "\n",
    "def concatenate(**kwargs):\n",
    "    result = \"\"\n",
    "   \n",
    "    for X in kwargs:\n",
    "        result += X\n",
    "    return result\n",
    "\n",
    "print(concatenate(a=\"pw\", b=\"skills\", c=\"Is\", d=\"Best\", e=\"Platform\"))"
   ]
  },
  {
   "cell_type": "raw",
   "id": "163e3ae8-cac8-4aa9-9f83-8f22376158e1",
   "metadata": {},
   "source": [
    "Q3. What is an iterator in python? Name the method used to initialise the iterator object and the method\n",
    "used for iteration. Use these methods to print the first five elements of the given list [2, 4, 6, 8, 10, 12, 14,\n",
    "16, 18, 20]."
   ]
  },
  {
   "cell_type": "code",
   "execution_count": 1,
   "id": "b261ef24-1323-4581-89b1-5c254d07ce9e",
   "metadata": {},
   "outputs": [
    {
     "name": "stdout",
     "output_type": "stream",
     "text": [
      "[2, 4, 6, 8, 10]\n"
     ]
    }
   ],
   "source": [
    "# ANS : an iterator is an object that represents a stream of data,The __iter__() method returns the iterator object itself.\n",
    "# The __next__() method returns the next value from the iterator.\n",
    "\n",
    "list = [2, 4, 6, 8, 10, 12, 14,16, 18, 20]\n",
    "\n",
    "element = list [:5]\n",
    "print (element)"
   ]
  },
  {
   "cell_type": "raw",
   "id": "e701415d-5c4a-4ab7-a117-23ee88eda24e",
   "metadata": {},
   "source": [
    "Q4. What is a generator function in python? Why yield keyword is used? Give an example of a generator\n",
    "function."
   ]
  },
  {
   "cell_type": "code",
   "execution_count": null,
   "id": "1836e509-52d6-4238-a6b0-6684e89ef282",
   "metadata": {},
   "outputs": [
    {
     "name": "stdout",
     "output_type": "stream",
     "text": [
      "0\n",
      "1\n",
      "1\n",
      "2\n",
      "3\n",
      "5\n",
      "8\n",
      "13\n",
      "21\n",
      "34\n"
     ]
    }
   ],
   "source": [
    "# ANS : A generator function is a special type of function that allows to iterate over large sequence of data without creating and storing the entire sequence in memory.\n",
    "#generator function uses the yield keyword to produce a series of values over multiple calls.\n",
    "\n",
    "def test_fib(n):\n",
    "    a,b = 0, 1\n",
    "    for i in range(n):\n",
    "        yield a\n",
    "        a,b = b, a+b\n",
    "        \n",
    "for i in test_fib(10):\n",
    "    print (i)"
   ]
  },
  {
   "cell_type": "raw",
   "id": "8ecabd77-38f0-4111-9e77-bea32e8e759e",
   "metadata": {},
   "source": [
    "Q5. Create a generator function for prime numbers less than 1000. Use the next() method to print the\n",
    "first 20 prime numbers."
   ]
  },
  {
   "cell_type": "code",
   "execution_count": null,
   "id": "a2fd945c-3aea-4826-a0b6-b735480c39d0",
   "metadata": {},
   "outputs": [],
   "source": [
    "# ANS : # Create a generator function for prime numbers less than 1000.\n",
    "\n",
    "def is_prime(num):\n",
    "    if num < 2:\n",
    "        return False\n",
    "    for i in range(2, int(num**0.5) + 1):\n",
    "        if num % i == 0:\n",
    "            return False\n",
    "    return True\n",
    "def primes_generator():\n",
    "    for number in range(2, 1000):\n",
    "        if is_prime(number):\n",
    "            yield number\n",
    "prime_numbers = primes_generator()\n",
    "\n",
    "for prime in prime_numbers:\n",
    "    print(prime)\n",
    "    \n",
    "    \n",
    "# ANS : # Use the next() method to print the first 20 prime numbers.\n",
    "\n",
    "def primes_generator():\n",
    "    num = 2\n",
    "    count = 0\n",
    "    while count < 20:\n",
    "        if is_prime(num):\n",
    "            yield num\n",
    "            count += 1\n",
    "        num += 1\n",
    "        \n",
    "prime_generator = primes_generator()\n",
    "\n",
    "for _ in range(20):\n",
    "    prime = next(prime_generator)\n",
    "    print(prime)      "
   ]
  },
  {
   "cell_type": "raw",
   "id": "33fea868-4463-4d0c-9e8a-5ce532316348",
   "metadata": {},
   "source": [
    "Q6. Write a python program to print the first 10 Fibonacci numbers using a while loop."
   ]
  },
  {
   "cell_type": "code",
   "execution_count": null,
   "id": "1258a9f1-6312-48a1-9978-55f92273331d",
   "metadata": {},
   "outputs": [],
   "source": [
    "# ANS : \n",
    "\n",
    "def test_fib(n):\n",
    "    a,b = 0, 1\n",
    "    for i in range(n):\n",
    "        yield a\n",
    "        a,b = b, a+b\n",
    "for i in test_fib(10):\n",
    "    print (i)\n",
    "    "
   ]
  },
  {
   "cell_type": "raw",
   "id": "f3c9215b-aa54-4a1b-a37b-d91996fadef9",
   "metadata": {},
   "source": [
    "Q7. Write a List Comprehension to iterate through the given string: ‘pwskills’.\n",
    "\n",
    "Expected output: ['p', 'w', 's', 'k', 'i', 'l', 'l', 's']"
   ]
  },
  {
   "cell_type": "code",
   "execution_count": 54,
   "id": "d436a647-e371-40ec-b2f2-aa95c137ca15",
   "metadata": {},
   "outputs": [
    {
     "name": "stdout",
     "output_type": "stream",
     "text": [
      "['p', 'w', 's', 'k', 'i', 'l', 'l', 's']\n"
     ]
    }
   ],
   "source": [
    "# ANS \n",
    "\n",
    "x = 'pwskills'\n",
    "\n",
    "result = []\n",
    "for i in x:\n",
    "    result.append(i)\n",
    "\n",
    "print(result)"
   ]
  },
  {
   "cell_type": "raw",
   "id": "4596b836-a564-415c-89e7-29500c8a1573",
   "metadata": {},
   "source": [
    "Q8. Write a python program to check whether a given number is Palindrome or not using a while loop."
   ]
  },
  {
   "cell_type": "code",
   "execution_count": 62,
   "id": "0110a815-3292-4235-af74-db7e8d167eb8",
   "metadata": {},
   "outputs": [
    {
     "name": "stdin",
     "output_type": "stream",
     "text": [
      "Enter a number:  121\n"
     ]
    },
    {
     "name": "stdout",
     "output_type": "stream",
     "text": [
      "121 is a palindrome.\n"
     ]
    }
   ],
   "source": [
    "# ANS :\n",
    "\n",
    "def is_palindrome(number):\n",
    "    original_number = number\n",
    "    reverse_number = 0\n",
    "\n",
    "    while number > 0:\n",
    "        digit = number % 10\n",
    "        reverse_number = reverse_number * 10 + digit\n",
    "        number = number // 10\n",
    "\n",
    "    return original_number == reverse_number\n",
    "\n",
    "# Input from the user\n",
    "num = int(input(\"Enter a number: \"))\n",
    "\n",
    "# Check if the number is a palindrome\n",
    "if is_palindrome(num):\n",
    "    print(f\"{num} is a palindrome.\")\n",
    "else:\n",
    "    print(f\"{num} is not a palindrome.\")"
   ]
  },
  {
   "cell_type": "raw",
   "id": "c4e23748-73f2-48f3-82c4-69085fc6ce57",
   "metadata": {},
   "source": [
    "Q9. Write a code to print odd numbers from 1 to 100 using list comprehension.\n"
   ]
  },
  {
   "cell_type": "code",
   "execution_count": 63,
   "id": "5e85783c-fd83-4a08-9249-15562f6d4b2b",
   "metadata": {},
   "outputs": [
    {
     "name": "stdout",
     "output_type": "stream",
     "text": [
      "[1, 3, 5, 7, 9, 11, 13, 15, 17, 19, 21, 23, 25, 27, 29, 31, 33, 35, 37, 39, 41, 43, 45, 47, 49, 51, 53, 55, 57, 59, 61, 63, 65, 67, 69, 71, 73, 75, 77, 79, 81, 83, 85, 87, 89, 91, 93, 95, 97, 99]\n"
     ]
    }
   ],
   "source": [
    "#ANS : \n",
    "\n",
    "odd_numbers = [i for i in range(1, 101) if i % 2 != 0]\n",
    "\n",
    "print(odd_numbers)"
   ]
  },
  {
   "cell_type": "code",
   "execution_count": null,
   "id": "afa03cc8-a37f-46ad-a91e-17dd64c7682a",
   "metadata": {},
   "outputs": [],
   "source": []
  },
  {
   "cell_type": "code",
   "execution_count": null,
   "id": "595c54f4-c075-49a2-af70-2c8f80953399",
   "metadata": {},
   "outputs": [],
   "source": []
  }
 ],
 "metadata": {
  "kernelspec": {
   "display_name": "Python 3 (ipykernel)",
   "language": "python",
   "name": "python3"
  },
  "language_info": {
   "codemirror_mode": {
    "name": "ipython",
    "version": 3
   },
   "file_extension": ".py",
   "mimetype": "text/x-python",
   "name": "python",
   "nbconvert_exporter": "python",
   "pygments_lexer": "ipython3",
   "version": "3.10.8"
  }
 },
 "nbformat": 4,
 "nbformat_minor": 5
}
